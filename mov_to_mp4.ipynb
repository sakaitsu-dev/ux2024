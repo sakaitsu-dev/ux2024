{
 "cells": [
  {
   "cell_type": "code",
   "execution_count": 3,
   "metadata": {},
   "outputs": [],
   "source": [
    "from moviepy.editor import VideoFileClip\n",
    "\n",
    "def compress_and_convert_to_mp4(input_file, output_file):\n",
    "    # 動画ファイルを読み込む\n",
    "    clip = VideoFileClip(input_file)\n",
    "    \n",
    "    # 動画をmp4形式で圧縮して保存する\n",
    "    clip.write_videofile(output_file, codec='libx264')"
   ]
  },
  {
   "cell_type": "code",
   "execution_count": 4,
   "metadata": {},
   "outputs": [
    {
     "name": "stdout",
     "output_type": "stream",
     "text": [
      "Moviepy - Building video workspace/movie/IMG_3874.mp4.\n",
      "MoviePy - Writing audio in IMG_3874TEMP_MPY_wvf_snd.mp3\n"
     ]
    },
    {
     "name": "stderr",
     "output_type": "stream",
     "text": [
      "                                                        \r"
     ]
    },
    {
     "name": "stdout",
     "output_type": "stream",
     "text": [
      "MoviePy - Done.\n",
      "Moviepy - Writing video workspace/movie/IMG_3874.mp4\n",
      "\n"
     ]
    },
    {
     "name": "stderr",
     "output_type": "stream",
     "text": [
      "                                                              \r"
     ]
    },
    {
     "name": "stdout",
     "output_type": "stream",
     "text": [
      "Moviepy - Done !\n",
      "Moviepy - video ready workspace/movie/IMG_3874.mp4\n"
     ]
    }
   ],
   "source": [
    "# 使用例\n",
    "input_mov_file = 'workspace/movie/IMG_3874.mov'\n",
    "output_mp4_file = 'workspace/movie/IMG_3874.mp4'\n",
    "compress_and_convert_to_mp4(input_mov_file, output_mp4_file)"
   ]
  },
  {
   "cell_type": "code",
   "execution_count": null,
   "metadata": {},
   "outputs": [],
   "source": []
  }
 ],
 "metadata": {
  "kernelspec": {
   "display_name": "Python 3",
   "language": "python",
   "name": "python3"
  },
  "language_info": {
   "codemirror_mode": {
    "name": "ipython",
    "version": 3
   },
   "file_extension": ".py",
   "mimetype": "text/x-python",
   "name": "python",
   "nbconvert_exporter": "python",
   "pygments_lexer": "ipython3",
   "version": "3.9.19"
  }
 },
 "nbformat": 4,
 "nbformat_minor": 2
}
